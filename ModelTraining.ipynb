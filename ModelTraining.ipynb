{
 "cells": [
  {
   "cell_type": "code",
   "execution_count": null,
   "metadata": {},
   "outputs": [],
   "source": [
    "import tensorflow as tf\n",
    "from tensorflow.keras.models import Sequential, Model\n",
    "from tensorflow.keras.layers import Embedding, LSTM, Dense, Embedding, Attention, GlobalAveragePooling2D, Input, Concatenate\n",
    "from tensorflow.keras.preprocessing.text import Tokenizer\n",
    "from tensorflow.keras.preprocessing.sequence import pad_sequences\n",
    "from helpers import FeatureExtraction\n",
    "import numpy as np "
   ]
  },
  {
   "cell_type": "code",
   "execution_count": null,
   "metadata": {},
   "outputs": [],
   "source": [
    "bad_html_text = \"\"\"\n",
    "<!DOCTYPE html>\n",
    "<html lang=\"en\">\n",
    "<head>\n",
    "    <meta charset=\"UTF-8\">\n",
    "    <meta name=\"viewport\" content=\"width=device-width, initial-scale=1.0\">\n",
    "    <title>Sample HTML Page</title>\n",
    "    <link rel=\"stylesheet\" href=\"styles.css\">\n",
    "</head>\n",
    "<body>\n",
    "    <header>\n",
    "        <h1>Welcome to My Website</h1>\n",
    "        <nav>\n",
    "            <ul>\n",
    "                <li><a href=\"#home\">Home</a></li>\n",
    "                <li><a href=\"#about\">About</a></li>\n",
    "                <li><a href=\"#contact\">Contact</a></li>\n",
    "                <li><a href=\"#connect\"></a></li>\n",
    "            </ul>\n",
    "        </nav>\n",
    "    </header>\n",
    "    <section id=\"home\">\n",
    "        <h2>Home Section</h2>\n",
    "        <p>This is the home section of the page.</p>\n",
    "    </section>\n",
    "    <section id=\"about\">\n",
    "        <h2>About Section</h2>\n",
    "        <p>This is the about section of the page.</p>\n",
    "        <img src=\"profile.jpg\" alt=\"Profile Image\">\n",
    "    </section>\n",
    "    <section id=\"contact\">\n",
    "        <h2>Contact Section</h2>\n",
    "        <form action=\"/submit\" method=\"post\">\n",
    "            <label for=\"name\">Name:</label>\n",
    "            <input type=\"text\" id=\"name\" name=\"name\" required>\n",
    "            <br>\n",
    "            <label for=\"email\">Email:</label>\n",
    "            <input type=\"email\" id=\"email\" name=\"email\" required>\n",
    "            <br>\n",
    "            <input type=\"submit\" value=\"Submit\">\n",
    "        </form>\n",
    "    </section>\n",
    "    <footer>\n",
    "        <p>&copy; 2022 My Website. All rights reserved.</p>\n",
    "    </footer>\n",
    "</body>\n",
    "</html>\n",
    "\"\"\""
   ]
  },
  {
   "cell_type": "code",
   "execution_count": null,
   "metadata": {},
   "outputs": [],
   "source": [
    "good_html_text = \"\"\"\n",
    "<!DOCTYPE html>\n",
    "<html lang=\"en\">\n",
    "<head>\n",
    "    <title>Sample HTML Page</title>\n",
    "    <meta charset=\"UTF-8\">\n",
    "    <meta name=\"viewport\" content=\"width=device-width, initial-scale=1.0\">\n",
    "    <meta name=\"author\" content=\"Le Tuan Hy\"> \n",
    "    <meta name=\"description\" content=\"Sample page for LSTM and RNN training\"\n",
    "    <meta name=\"date> content=\"2024-1:00-08:00\"\n",
    "    <meta name=\"application-name\" content=\"Neural Network Ninjas\">\n",
    "    <meta name=\"keywords\" content=\"Sample\", \"AI\", \"Training\", \"LSTM\">\n",
    "    <link rel=\"stylesheet\" href=\"styles.css\">\n",
    "</head>\n",
    "<body>\n",
    "    <header>\n",
    "        <h1>Welcome to My Website</h1>\n",
    "        <nav>\n",
    "            <ul>\n",
    "                <li><a href=\"#home\">Home</a></li>\n",
    "                <li><a href=\"#about\">About</a></li>\n",
    "                <li><a href=\"#contact\">Contact</a></li>\n",
    "                <li><a href=\"#connect\">Connect to others</a></li>\n",
    "            </ul>\n",
    "        </nav>\n",
    "    </header>\n",
    "    <section id=\"home\">\n",
    "        <h2>Home Section</h2>\n",
    "        <p>This is the home section of the page.</p>\n",
    "    </section>\n",
    "    <section id=\"about\">\n",
    "        <h2>About Section</h2>\n",
    "        <p>This is the about section of the page.</p>\n",
    "        <img src=\"profile.jpg\" alt=\"Profile Image\">\n",
    "    </section>\n",
    "    <section id=\"contact\">\n",
    "        <h2>Contact Section</h2>\n",
    "        <form action=\"/submit\" method=\"post\">\n",
    "            <label for=\"name\">Name:</label>\n",
    "            <input type=\"text\" id=\"name\" name=\"name\" required>\n",
    "            <br>\n",
    "            <label for=\"email\">Email:</label>\n",
    "            <input type=\"email\" id=\"email\" name=\"email\" required>\n",
    "            <br>\n",
    "            <input type=\"submit\" value=\"Submit\">\n",
    "        </form>\n",
    "    </section>\n",
    "    <footer>\n",
    "        <p>&copy; 2022 My Website. All rights reserved.</p>\n",
    "    </footer>\n",
    "</body>\n",
    "</html>\n",
    "\"\"\""
   ]
  },
  {
   "cell_type": "markdown",
   "metadata": {},
   "source": [
    "### TOKENIZE"
   ]
  },
  {
   "cell_type": "code",
   "execution_count": null,
   "metadata": {},
   "outputs": [],
   "source": [
    "tokenizer = Tokenizer(filters='\\n')"
   ]
  },
  {
   "cell_type": "code",
   "execution_count": null,
   "metadata": {},
   "outputs": [],
   "source": [
    "tokenizer.fit_on_texts([bad_html_text])\n",
    "tokenizer.fit_on_texts([good_html_text])"
   ]
  },
  {
   "cell_type": "code",
   "execution_count": null,
   "metadata": {},
   "outputs": [],
   "source": [
    "bad_html_sequences = tokenizer.texts_to_sequences([bad_html_text])[0]\n",
    "good_html_sequences = tokenizer.texts_to_sequences([good_html_text])[0]"
   ]
  },
  {
   "cell_type": "code",
   "execution_count": null,
   "metadata": {},
   "outputs": [],
   "source": [
    "print(bad_html_sequences)\n",
    "print(good_html_sequences)"
   ]
  },
  {
   "cell_type": "code",
   "execution_count": null,
   "metadata": {},
   "outputs": [],
   "source": [
    "print(tokenizer.word_counts)"
   ]
  },
  {
   "cell_type": "code",
   "execution_count": null,
   "metadata": {},
   "outputs": [],
   "source": [
    "VOCAB_SIZE = len(tokenizer.word_index)\n",
    "print(VOCAB_SIZE)"
   ]
  },
  {
   "cell_type": "markdown",
   "metadata": {},
   "source": [
    "### SEQUENCE PADDING"
   ]
  },
  {
   "cell_type": "code",
   "execution_count": null,
   "metadata": {},
   "outputs": [],
   "source": [
    "MAX_LENGTH = max(len(bad_html_sequences), len(good_html_sequences))\n",
    "print(MAX_LENGTH)"
   ]
  },
  {
   "cell_type": "code",
   "execution_count": null,
   "metadata": {},
   "outputs": [],
   "source": [
    "bad_html_sequences_padded = pad_sequences([bad_html_sequences], maxlen=MAX_LENGTH, truncating=\"post\", padding=\"post\")\n",
    "good_html_sequences_padded = pad_sequences(\n",
    "    [good_html_sequences], maxlen=MAX_LENGTH, truncating=\"post\", padding=\"post\")"
   ]
  },
  {
   "cell_type": "code",
   "execution_count": null,
   "metadata": {},
   "outputs": [],
   "source": [
    "print(bad_html_sequences_padded)\n",
    "print(good_html_sequences_padded)"
   ]
  },
  {
   "cell_type": "markdown",
   "metadata": {},
   "source": [
    "### FEATURE EXTRACTION"
   ]
  },
  {
   "cell_type": "code",
   "execution_count": null,
   "metadata": {},
   "outputs": [],
   "source": [
    "keywords = [\"Sample\", \"AI\", \"Training\", \"LSTM\"]\n",
    "bad_html_feature_extractor = FeatureExtraction(bad_html_text, keywords=keywords) \n",
    "good_html_feature_extractor = FeatureExtraction(good_html_text, keywords=keywords)"
   ]
  },
  {
   "cell_type": "code",
   "execution_count": null,
   "metadata": {},
   "outputs": [],
   "source": [
    "# start extracting features\n",
    "bad_html_feature_extractor.start()\n",
    "good_html_feature_extractor.start()"
   ]
  },
  {
   "cell_type": "code",
   "execution_count": null,
   "metadata": {},
   "outputs": [],
   "source": [
    "bad_html_feature_vector = bad_html_feature_extractor.get_feature_vector()\n",
    "good_html_feature_vector = good_html_feature_extractor.get_feature_vector()\n",
    "\n",
    "print(bad_html_feature_vector)\n",
    "print(good_html_feature_vector)"
   ]
  },
  {
   "cell_type": "markdown",
   "metadata": {},
   "source": [
    "### FEATURE CONCATENATION"
   ]
  },
  {
   "cell_type": "code",
   "execution_count": null,
   "metadata": {},
   "outputs": [],
   "source": []
  },
  {
   "cell_type": "markdown",
   "metadata": {},
   "source": [
    "### MODEL CREATION"
   ]
  },
  {
   "cell_type": "code",
   "execution_count": null,
   "metadata": {},
   "outputs": [],
   "source": [
    "max_sequence_length = MAX_LENGTH\n",
    "\n",
    "# Define the model architecture\n",
    "embedding_dim = 100\n",
    "lstm_units = MAX_LENGTH\n",
    "\n",
    "# Input layer for bad HTML code and features\n",
    "bad_input = Input(shape=(max_sequence_length,))\n",
    "bad_embedding = Embedding(input_dim=VOCAB_SIZE,\n",
    "                          output_dim=embedding_dim)(bad_input)\n",
    "bad_lstm = LSTM(lstm_units, return_sequences=True)(\n",
    "    bad_embedding)  # Return sequences for attention mechanism\n",
    "\n",
    "# Input layer for features\n",
    "feature_input = Input(shape=(18))\n",
    "\n",
    "tiled_feature_vector = tf.tile(tf.expand_dims(\n",
    "    feature_input, axis=1), [1, max_sequence_length, 1])\n",
    "\n",
    "# Concatenate the LSTM output and features\n",
    "concatenated_inputs = Concatenate(\n",
    "    axis=-1)([bad_lstm, tiled_feature_vector])\n",
    "\n",
    "# Attention mechanism\n",
    "attention_output = Attention()([concatenated_inputs, concatenated_inputs])\n",
    "\n",
    "# Output layer\n",
    "output = Dense(VOCAB_SIZE + 1, activation='softmax')(attention_output)\n",
    "\n",
    "# Create the model\n",
    "model = Model(inputs=[bad_input, feature_input], outputs=output)\n",
    "\n",
    "# Compile the model\n",
    "model.compile(optimizer='adam',\n",
    "              loss='sparse_categorical_crossentropy', metrics=['accuracy'])\n",
    "\n",
    "# Prepare training data (replace with your own data)\n",
    "X_train_bad = np.array(bad_html_sequences_padded)\n",
    "X_train_feature = np.array([bad_html_feature_vector])\n",
    "y_train = np.array([good_html_sequences_padded])\n",
    "\n",
    "# Train the model\n",
    "model.fit([X_train_bad, X_train_feature], y_train,\n",
    "          epochs=20)"
   ]
  },
  {
   "cell_type": "code",
   "execution_count": null,
   "metadata": {},
   "outputs": [],
   "source": [
    "model.summary()"
   ]
  }
 ],
 "metadata": {
  "kernelspec": {
   "display_name": ".venv",
   "language": "python",
   "name": "python3"
  },
  "language_info": {
   "codemirror_mode": {
    "name": "ipython",
    "version": 3
   },
   "file_extension": ".py",
   "mimetype": "text/x-python",
   "name": "python",
   "nbconvert_exporter": "python",
   "pygments_lexer": "ipython3",
   "version": "3.9.0"
  }
 },
 "nbformat": 4,
 "nbformat_minor": 2
}
