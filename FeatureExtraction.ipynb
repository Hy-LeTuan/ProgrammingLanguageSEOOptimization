{
 "cells": [
  {
   "cell_type": "code",
   "execution_count": 1,
   "metadata": {},
   "outputs": [],
   "source": [
    "import tensorflow\n",
    "import numpy as np \n",
    "from bs4 import BeautifulSoup"
   ]
  },
  {
   "cell_type": "code",
   "execution_count": 2,
   "metadata": {},
   "outputs": [],
   "source": [
    "class FeatureExtraction(): \n",
    "    def __init__(self, html_document, keywords): \n",
    "        self.html_document = html_document\n",
    "        self.keywords = keywords\n",
    "\n",
    "        soup = BeautifulSoup(html_document, \"html.parser\")\n",
    "        self.soup_object = soup\n",
    "\n",
    "        self.feature_vector = np.zeros(15)\n",
    "\n",
    "    def __repr__(self): \n",
    "        print(f\"HTML document: {len(self.html_document) != 0}\")\n",
    "        print(f\"Keywords: {self.keywords}\")\n",
    "\n",
    "    def feature_extraction_html_tag(self): \n",
    "        \"\"\"\n",
    "        HTML tag features: \n",
    "        lang\n",
    "        head \n",
    "        body \n",
    "        footer\n",
    "        \"\"\"\n",
    "        for i in range(11, 15): \n",
    "            self.feature_vector[i] = 1\n",
    "\n",
    "        if self.soup_object.find_all(\"html\").attrs == None\n",
    "            self.feature_vector[11] -= 1\n",
    "        \n",
    "        if self.soup_object.find_all(\"head\").attrs == None: \n",
    "            self.feature_vector[12] -= 1\n",
    "\n",
    "        if self.soup_object.find_all(\"body\").attrs == None: \n",
    "            self.feature_vector[13] -= 1\n",
    "        \n",
    "        if self.soup_object.find_all(\"footer\").atrrs == None: \n",
    "            self.feature_vector[14] -= 1\n",
    "\n",
    "    def feature_extraction_head_tag(self): \n",
    "        \"\"\"\n",
    "        Head tag features: \n",
    "        Has Title tag\n",
    "        Title tag must contain keywords \n",
    "        \"\"\"\n",
    "        self.feature_vector[9] = 1\n",
    "\n",
    "        head_tag = self.soup_object.find(\"head\")\n",
    "        title_tag_content = \"\"\n",
    "        found_title = False \n",
    "        kw_count = 0\n",
    "\n",
    "        for i in range(len(head_tag.children)): \n",
    "            if head_tag == \"title\": \n",
    "                self.feature_vector[9] -= i\n",
    "                title_tag_content = head_tag.children[i].text\n",
    "                found_title = True\n",
    "\n",
    "        for kw in self.keywords: \n",
    "            if kw in title_tag_content: \n",
    "                if kw_count > 3: \n",
    "                    self.feature_vector[10] -= 1\n",
    "                else: \n",
    "                    self.feature_vector[10] += 1\n",
    "\n",
    "        if not found_title: \n",
    "            self.feature_vector[9] -= 3\n",
    "            \n",
    "    def feature_extraction_meta_tag(self): \n",
    "        \"\"\"\n",
    "        Meta tag features: \n",
    "        Application name, \n",
    "        Keywords, \n",
    "        Author, \n",
    "        Description, \n",
    "        Description tag length (<= 160) \n",
    "        Generator, \n",
    "        Viewport, \n",
    "        Date, \n",
    "        \"\"\"\n",
    "\n",
    "        # get features from meta tag\n",
    "        for meta_tag in self.soup_object.find_all(\"meta\"): \n",
    "            attributes = meta_tag.attrs\n",
    "            has_description = False\n",
    "            if \"name\" in attributes and \"content\" in attributes: \n",
    "                # check for null content\n",
    "                if attributes[\"content\"] == \"\": \n",
    "                    continue\n",
    "\n",
    "                # check for each description necessary for meta tag \n",
    "                if attributes[\"name\"] == \"application-name\": \n",
    "                    self.feature_vector[0] += 1\n",
    "                elif attributes[\"name\"] == \"keywords\": \n",
    "                    self.feature_vector[1] += 1\n",
    "                elif attributes[\"name\"] == \"author\": \n",
    "                    self.feature_vector[2] += 1\n",
    "                elif attributes[\"name\"] == \"description\": \n",
    "                    self.feature_vector[3] += 2\n",
    "                    has_description = True\n",
    "                    if len(attributes[\"content\"]) <= 160: \n",
    "                        self.feature_vector[4] += 1\n",
    "                elif attributes[\"name\"] == \"generator\": \n",
    "                    self.feature_vector[5] += 1\n",
    "                elif attributes[\"name\"] == \"viewport\": \n",
    "                    self.feature_vector[6] += 1\n",
    "                elif attributes[\"name\"] == \"date\": \n",
    "                    self.feature_vector[7] += 1\n",
    "                elif attributes[\"name\"] == \"lang\": \n",
    "                    self.feature_vector[8] -= 1\n",
    "        \n",
    "        if not has_description: \n",
    "            self.feature_vecotr[3] -= 2\n",
    "        return \n",
    "    \n",
    "    def feature_extraction_misc(self): \n",
    "        \"\"\"\n",
    "        Misc features: \n",
    "        Heading tags,\n",
    "        Alt text images, \n",
    "        Anchor text, \n",
    "        \"\"\"\n",
    "        pass\n",
    "\n",
    "    def get_feature_vector(self): \n",
    "        norm = np.linalg.norm(self.feature_vector)\n",
    "        return self.feature_vector / norm \n"
   ]
  },
  {
   "cell_type": "code",
   "execution_count": 3,
   "metadata": {},
   "outputs": [],
   "source": [
    "html_text = \"\"\"\n",
    "<!DOCTYPE html>\n",
    "<html lang=\"en\">\n",
    "<head>\n",
    "    <meta charset=\"UTF-8\">\n",
    "    <meta name=\"viewport\" content=\"width=device-width, initial-scale=1.0\">\n",
    "    <title>Sample HTML Page</title>\n",
    "    <link rel=\"stylesheet\" href=\"styles.css\">\n",
    "</head>\n",
    "<body>\n",
    "\n",
    "    <header>\n",
    "        <h1>Welcome to My Website</h1>\n",
    "        <nav>\n",
    "            <ul>\n",
    "                <li><a href=\"#home\">Home</a></li>\n",
    "                <li><a href=\"#about\">About</a></li>\n",
    "                <li><a href=\"#contact\">Contact</a></li>\n",
    "            </ul>\n",
    "        </nav>\n",
    "    </header>\n",
    "\n",
    "    <section id=\"home\">\n",
    "        <h2>Home Section</h2>\n",
    "        <p>This is the home section of the page.</p>\n",
    "    </section>\n",
    "\n",
    "    <section id=\"about\">\n",
    "        <h2>About Section</h2>\n",
    "        <p>This is the about section of the page.</p>\n",
    "        <img src=\"profile.jpg\" alt=\"Profile Image\">\n",
    "    </section>\n",
    "\n",
    "    <section id=\"contact\">\n",
    "        <h2>Contact Section</h2>\n",
    "        <form action=\"/submit\" method=\"post\">\n",
    "            <label for=\"name\">Name:</label>\n",
    "            <input type=\"text\" id=\"name\" name=\"name\" required>\n",
    "            <br>\n",
    "            <label for=\"email\">Email:</label>\n",
    "            <input type=\"email\" id=\"email\" name=\"email\" required>\n",
    "            <br>\n",
    "            <input type=\"submit\" value=\"Submit\">\n",
    "        </form>\n",
    "    </section>\n",
    "\n",
    "    <footer>\n",
    "        <p>&copy; 2022 My Website. All rights reserved.</p>\n",
    "    </footer>\n",
    "\n",
    "</body>\n",
    "</html>\n",
    "\"\"\""
   ]
  },
  {
   "cell_type": "code",
   "execution_count": 47,
   "metadata": {},
   "outputs": [],
   "source": [
    "feature_extractor = FeatureExtraction(html_text, [])"
   ]
  },
  {
   "cell_type": "code",
   "execution_count": 4,
   "metadata": {},
   "outputs": [],
   "source": [
    "soup = BeautifulSoup(html_text, \"html.parser\")"
   ]
  },
  {
   "cell_type": "code",
   "execution_count": 7,
   "metadata": {},
   "outputs": [
    {
     "data": {
      "text/plain": [
       "<head>\n",
       "<meta charset=\"utf-8\"/>\n",
       "<meta content=\"width=device-width, initial-scale=1.0\" name=\"viewport\"/>\n",
       "<title>Sample HTML Page</title>\n",
       "<link href=\"styles.css\" rel=\"stylesheet\"/>\n",
       "</head>"
      ]
     },
     "execution_count": 7,
     "metadata": {},
     "output_type": "execute_result"
    }
   ],
   "source": [
    "head_tag = soup.find(\"head\")\n",
    "\n",
    "head_tag"
   ]
  },
  {
   "cell_type": "code",
   "execution_count": 36,
   "metadata": {},
   "outputs": [],
   "source": [
    "i = 0\n",
    "text_list = []\n",
    "for child in head_tag.children: \n",
    "    text = str(child.text)\n",
    "    \n",
    "    text_list.append(text)"
   ]
  },
  {
   "cell_type": "code",
   "execution_count": 37,
   "metadata": {},
   "outputs": [
    {
     "name": "stdout",
     "output_type": "stream",
     "text": [
      "['\\n', '', '\\n', '', '\\n', 'Sample HTML Page', '\\n', '', '\\n']\n"
     ]
    }
   ],
   "source": [
    "print(text_list)"
   ]
  },
  {
   "cell_type": "code",
   "execution_count": 41,
   "metadata": {},
   "outputs": [
    {
     "data": {
      "text/plain": [
       "{'lang': 'en'}"
      ]
     },
     "execution_count": 41,
     "metadata": {},
     "output_type": "execute_result"
    }
   ],
   "source": [
    "soup.find(\"html\").attrs"
   ]
  },
  {
   "cell_type": "code",
   "execution_count": 42,
   "metadata": {},
   "outputs": [],
   "source": [
    "a = soup.find(\"strong\")"
   ]
  },
  {
   "cell_type": "code",
   "execution_count": 43,
   "metadata": {},
   "outputs": [
    {
     "name": "stdout",
     "output_type": "stream",
     "text": [
      "None\n"
     ]
    }
   ],
   "source": [
    "print(a)"
   ]
  }
 ],
 "metadata": {
  "kernelspec": {
   "display_name": "Python 3",
   "language": "python",
   "name": "python3"
  },
  "language_info": {
   "codemirror_mode": {
    "name": "ipython",
    "version": 3
   },
   "file_extension": ".py",
   "mimetype": "text/x-python",
   "name": "python",
   "nbconvert_exporter": "python",
   "pygments_lexer": "ipython3",
   "version": "3.9.0"
  }
 },
 "nbformat": 4,
 "nbformat_minor": 2
}
